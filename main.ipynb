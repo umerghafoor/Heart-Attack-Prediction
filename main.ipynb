{
 "cells": [
  {
   "cell_type": "markdown",
   "metadata": {},
   "source": [
    "# Import Libraries\n",
    "- pandas"
   ]
  },
  {
   "cell_type": "code",
   "execution_count": 3,
   "metadata": {},
   "outputs": [],
   "source": [
    "import pandas as pd\n",
    "from sklearn.model_selection import train_test_split\n",
    "from sklearn.preprocessing import StandardScaler\n",
    "from tensorflow import keras\n",
    "from tensorflow.keras import layers"
   ]
  },
  {
   "cell_type": "code",
   "execution_count": 4,
   "metadata": {},
   "outputs": [],
   "source": [
    "file_path = \"heart.csv\"\n",
    "df = pd.read_csv(file_path)"
   ]
  },
  {
   "cell_type": "code",
   "execution_count": 5,
   "metadata": {},
   "outputs": [],
   "source": [
    "X = df.drop('output', axis=1)\n",
    "y = df['output']"
   ]
  },
  {
   "cell_type": "code",
   "execution_count": 6,
   "metadata": {},
   "outputs": [],
   "source": [
    "X_train, X_test, y_train, y_test = train_test_split(X, y, test_size=0.2, random_state=42)\n"
   ]
  },
  {
   "cell_type": "code",
   "execution_count": 7,
   "metadata": {},
   "outputs": [],
   "source": [
    "scaler = StandardScaler()\n",
    "X_train_scaled = scaler.fit_transform(X_train)\n",
    "X_test_scaled = scaler.transform(X_test)\n"
   ]
  },
  {
   "cell_type": "code",
   "execution_count": 8,
   "metadata": {},
   "outputs": [],
   "source": [
    "model = keras.Sequential([\n",
    "    layers.Dense(64, activation='relu', input_shape=(X_train.shape[1],)),\n",
    "    layers.Dense(1, activation='sigmoid')\n",
    "])"
   ]
  },
  {
   "cell_type": "code",
   "execution_count": 9,
   "metadata": {},
   "outputs": [
    {
     "name": "stdout",
     "output_type": "stream",
     "text": [
      "Epoch 1/10\n",
      "7/7 [==============================] - 4s 126ms/step - loss: 0.6686 - accuracy: 0.6321 - val_loss: 0.6200 - val_accuracy: 0.7143\n",
      "Epoch 2/10\n",
      "7/7 [==============================] - 0s 27ms/step - loss: 0.6149 - accuracy: 0.7409 - val_loss: 0.5769 - val_accuracy: 0.7959\n",
      "Epoch 3/10\n",
      "7/7 [==============================] - 0s 26ms/step - loss: 0.5761 - accuracy: 0.7772 - val_loss: 0.5443 - val_accuracy: 0.7959\n",
      "Epoch 4/10\n",
      "7/7 [==============================] - 0s 32ms/step - loss: 0.5437 - accuracy: 0.8031 - val_loss: 0.5176 - val_accuracy: 0.8163\n",
      "Epoch 5/10\n",
      "7/7 [==============================] - 0s 27ms/step - loss: 0.5200 - accuracy: 0.8187 - val_loss: 0.4989 - val_accuracy: 0.8367\n",
      "Epoch 6/10\n",
      "7/7 [==============================] - 0s 29ms/step - loss: 0.5025 - accuracy: 0.8187 - val_loss: 0.4865 - val_accuracy: 0.8367\n",
      "Epoch 7/10\n",
      "7/7 [==============================] - 0s 42ms/step - loss: 0.4913 - accuracy: 0.8187 - val_loss: 0.4780 - val_accuracy: 0.8367\n",
      "Epoch 8/10\n",
      "7/7 [==============================] - 0s 22ms/step - loss: 0.4810 - accuracy: 0.8187 - val_loss: 0.4729 - val_accuracy: 0.8367\n",
      "Epoch 9/10\n",
      "7/7 [==============================] - 0s 26ms/step - loss: 0.4709 - accuracy: 0.8238 - val_loss: 0.4662 - val_accuracy: 0.8163\n",
      "Epoch 10/10\n",
      "7/7 [==============================] - 0s 29ms/step - loss: 0.4589 - accuracy: 0.8187 - val_loss: 0.4553 - val_accuracy: 0.8163\n"
     ]
    },
    {
     "data": {
      "text/plain": [
       "<keras.src.callbacks.History at 0x24bcb081b50>"
      ]
     },
     "execution_count": 9,
     "metadata": {},
     "output_type": "execute_result"
    }
   ],
   "source": [
    "model.compile(optimizer='adam', loss='binary_crossentropy', metrics=['accuracy'])\n",
    "\n",
    "model.fit(X_train_scaled, y_train, epochs=10, batch_size=32, validation_split=0.2)\n"
   ]
  },
  {
   "cell_type": "code",
   "execution_count": 10,
   "metadata": {},
   "outputs": [
    {
     "name": "stdout",
     "output_type": "stream",
     "text": [
      "2/2 [==============================] - 0s 7ms/step - loss: 0.4509 - accuracy: 0.8361\n",
      "\n",
      "Test Accuracy: 83.61%\n"
     ]
    }
   ],
   "source": [
    "test_loss, test_acc = model.evaluate(X_test_scaled, y_test)\n",
    "print(f'\\nTest Accuracy: {test_acc * 100:.2f}%')"
   ]
  }
 ],
 "metadata": {
  "kernelspec": {
   "display_name": "Python 3",
   "language": "python",
   "name": "python3"
  },
  "language_info": {
   "codemirror_mode": {
    "name": "ipython",
    "version": 3
   },
   "file_extension": ".py",
   "mimetype": "text/x-python",
   "name": "python",
   "nbconvert_exporter": "python",
   "pygments_lexer": "ipython3",
   "version": "3.11.5"
  }
 },
 "nbformat": 4,
 "nbformat_minor": 2
}
