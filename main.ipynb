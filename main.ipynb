{
 "cells": [
  {
   "cell_type": "markdown",
   "metadata": {},
   "source": [
    "#### Import Libraries\n",
    "- 'pandas'\n",
    "- 'sklearn' for Machine Learning"
   ]
  },
  {
   "cell_type": "code",
   "execution_count": 50,
   "metadata": {},
   "outputs": [],
   "source": [
    "import pandas as pd\n",
    "from sklearn.model_selection import train_test_split\n",
    "from sklearn.preprocessing import StandardScaler\n",
    "from tensorflow import keras\n",
    "from tensorflow.keras import layers"
   ]
  },
  {
   "cell_type": "markdown",
   "metadata": {},
   "source": [
    "#### Load CSV File"
   ]
  },
  {
   "cell_type": "code",
   "execution_count": 51,
   "metadata": {},
   "outputs": [],
   "source": [
    "file_path = \"heart.csv\"\n",
    "df = pd.read_csv(file_path)"
   ]
  },
  {
   "cell_type": "markdown",
   "metadata": {},
   "source": [
    "#### Assigning Input and Output"
   ]
  },
  {
   "cell_type": "code",
   "execution_count": 52,
   "metadata": {},
   "outputs": [],
   "source": [
    "X = df.drop('output', axis=1)\n",
    "y = df['output']"
   ]
  },
  {
   "cell_type": "markdown",
   "metadata": {},
   "source": [
    "#### Spliting Dataset"
   ]
  },
  {
   "cell_type": "code",
   "execution_count": 53,
   "metadata": {},
   "outputs": [],
   "source": [
    "X_train, X_test, y_train, y_test = train_test_split(X, y, test_size=0.2, random_state=42)"
   ]
  },
  {
   "cell_type": "markdown",
   "metadata": {},
   "source": [
    "#### Prepare Model"
   ]
  },
  {
   "cell_type": "code",
   "execution_count": 54,
   "metadata": {},
   "outputs": [],
   "source": [
    "scaler = StandardScaler()\n",
    "X_train_scaled = scaler.fit_transform(X_train)\n",
    "X_test_scaled = scaler.transform(X_test)"
   ]
  },
  {
   "cell_type": "code",
   "execution_count": 55,
   "metadata": {},
   "outputs": [],
   "source": [
    "model = keras.Sequential([\n",
    "    layers.Dense(128, activation='relu', input_shape=(X_train.shape[1],)),\n",
    "    layers.Dropout(0.3),\n",
    "    layers.Dense(64, activation='relu'),\n",
    "    layers.Dropout(0.3),\n",
    "    layers.Dense(1, activation='sigmoid')\n",
    "])"
   ]
  },
  {
   "cell_type": "code",
   "execution_count": 56,
   "metadata": {},
   "outputs": [
    {
     "name": "stdout",
     "output_type": "stream",
     "text": [
      "Epoch 1/20\n",
      "7/7 [==============================] - 1s 48ms/step - loss: 0.6738 - accuracy: 0.5907 - val_loss: 0.6202 - val_accuracy: 0.6327\n",
      "Epoch 2/20\n",
      "7/7 [==============================] - 0s 17ms/step - loss: 0.5706 - accuracy: 0.7617 - val_loss: 0.5472 - val_accuracy: 0.7347\n",
      "Epoch 3/20\n",
      "7/7 [==============================] - 0s 14ms/step - loss: 0.5291 - accuracy: 0.7824 - val_loss: 0.4993 - val_accuracy: 0.7755\n",
      "Epoch 4/20\n",
      "7/7 [==============================] - 0s 16ms/step - loss: 0.4846 - accuracy: 0.8187 - val_loss: 0.4656 - val_accuracy: 0.7959\n",
      "Epoch 5/20\n",
      "7/7 [==============================] - 0s 16ms/step - loss: 0.4622 - accuracy: 0.8135 - val_loss: 0.4415 - val_accuracy: 0.7959\n",
      "Epoch 6/20\n",
      "7/7 [==============================] - 0s 14ms/step - loss: 0.4268 - accuracy: 0.8187 - val_loss: 0.4191 - val_accuracy: 0.7959\n",
      "Epoch 7/20\n",
      "7/7 [==============================] - 0s 15ms/step - loss: 0.4067 - accuracy: 0.8031 - val_loss: 0.4054 - val_accuracy: 0.7959\n",
      "Epoch 8/20\n",
      "7/7 [==============================] - 0s 13ms/step - loss: 0.3950 - accuracy: 0.8290 - val_loss: 0.3897 - val_accuracy: 0.7959\n",
      "Epoch 9/20\n",
      "7/7 [==============================] - 0s 12ms/step - loss: 0.3662 - accuracy: 0.8705 - val_loss: 0.3819 - val_accuracy: 0.7959\n",
      "Epoch 10/20\n",
      "7/7 [==============================] - 0s 13ms/step - loss: 0.3664 - accuracy: 0.8549 - val_loss: 0.3807 - val_accuracy: 0.7959\n",
      "Epoch 11/20\n",
      "7/7 [==============================] - 0s 17ms/step - loss: 0.3794 - accuracy: 0.8446 - val_loss: 0.3843 - val_accuracy: 0.7959\n",
      "Epoch 12/20\n",
      "7/7 [==============================] - 0s 22ms/step - loss: 0.3591 - accuracy: 0.8497 - val_loss: 0.3938 - val_accuracy: 0.8163\n",
      "Epoch 13/20\n",
      "7/7 [==============================] - 0s 19ms/step - loss: 0.3203 - accuracy: 0.8549 - val_loss: 0.3933 - val_accuracy: 0.8163\n",
      "Epoch 14/20\n",
      "7/7 [==============================] - 0s 18ms/step - loss: 0.3273 - accuracy: 0.8653 - val_loss: 0.3855 - val_accuracy: 0.7959\n",
      "Epoch 15/20\n",
      "7/7 [==============================] - 0s 23ms/step - loss: 0.3152 - accuracy: 0.8497 - val_loss: 0.3807 - val_accuracy: 0.7959\n",
      "Epoch 16/20\n",
      "7/7 [==============================] - 0s 12ms/step - loss: 0.3266 - accuracy: 0.8860 - val_loss: 0.3784 - val_accuracy: 0.7959\n",
      "Epoch 17/20\n",
      "7/7 [==============================] - 0s 16ms/step - loss: 0.3311 - accuracy: 0.8394 - val_loss: 0.3786 - val_accuracy: 0.7959\n",
      "Epoch 18/20\n",
      "7/7 [==============================] - 0s 14ms/step - loss: 0.3194 - accuracy: 0.8446 - val_loss: 0.3799 - val_accuracy: 0.8163\n",
      "Epoch 19/20\n",
      "7/7 [==============================] - 0s 10ms/step - loss: 0.3227 - accuracy: 0.8705 - val_loss: 0.3745 - val_accuracy: 0.8163\n",
      "Epoch 20/20\n",
      "7/7 [==============================] - 0s 10ms/step - loss: 0.3208 - accuracy: 0.8705 - val_loss: 0.3720 - val_accuracy: 0.7959\n"
     ]
    },
    {
     "data": {
      "text/plain": [
       "<keras.src.callbacks.History at 0x24bd6acdbd0>"
      ]
     },
     "execution_count": 56,
     "metadata": {},
     "output_type": "execute_result"
    }
   ],
   "source": [
    "model.compile(optimizer='adam', loss='binary_crossentropy', metrics=['accuracy'])\n",
    "\n",
    "model.fit(X_train_scaled, y_train, epochs=20, batch_size=32, validation_split=0.2)"
   ]
  },
  {
   "cell_type": "code",
   "execution_count": 57,
   "metadata": {},
   "outputs": [
    {
     "name": "stdout",
     "output_type": "stream",
     "text": [
      "2/2 [==============================] - 0s 5ms/step - loss: 0.4499 - accuracy: 0.8525\n",
      "\n",
      "Test Accuracy: 85.25%\n"
     ]
    }
   ],
   "source": [
    "test_loss, test_acc = model.evaluate(X_test_scaled, y_test)\n",
    "print(f'\\nTest Accuracy: {test_acc * 100:.2f}%')"
   ]
  },
  {
   "cell_type": "code",
   "execution_count": null,
   "metadata": {},
   "outputs": [],
   "source": []
  }
 ],
 "metadata": {
  "kernelspec": {
   "display_name": "Python 3",
   "language": "python",
   "name": "python3"
  },
  "language_info": {
   "codemirror_mode": {
    "name": "ipython",
    "version": 3
   },
   "file_extension": ".py",
   "mimetype": "text/x-python",
   "name": "python",
   "nbconvert_exporter": "python",
   "pygments_lexer": "ipython3",
   "version": "3.11.5"
  }
 },
 "nbformat": 4,
 "nbformat_minor": 2
}
